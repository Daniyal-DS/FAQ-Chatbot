{
  "nbformat": 4,
  "nbformat_minor": 0,
  "metadata": {
    "colab": {
      "provenance": [],
      "gpuType": "T4"
    },
    "kernelspec": {
      "name": "python3",
      "display_name": "Python 3"
    },
    "language_info": {
      "name": "python"
    },
    "accelerator": "GPU"
  },
  "cells": [
    {
      "cell_type": "markdown",
      "source": [
        "# **Gilgit Baltistan FAQ Chatbot**"
      ],
      "metadata": {
        "id": "H32JAaB6Pb_n"
      }
    },
    {
      "cell_type": "code",
      "execution_count": 41,
      "metadata": {
        "colab": {
          "base_uri": "https://localhost:8080/"
        },
        "id": "qqiWJtIs9Jz3",
        "outputId": "153c8ef2-43d4-4eb9-d183-474702107075"
      },
      "outputs": [
        {
          "output_type": "stream",
          "name": "stdout",
          "text": [
            "                                         Question  \\\n",
            "0         What is the approximate area of Skardu?   \n",
            "1         What are the key attractions in Skardu?   \n",
            "2               What challenges does Skardu face?   \n",
            "3  What is the distance of Skardu from Islamabad?   \n",
            "4        What is the temperature range in Skardu?   \n",
            "\n",
            "                                              Answer  \n",
            "0  Skardu has a specific area that varies based o...  \n",
            "1  Skardu offers stunning places such as valleys,...  \n",
            "2  Skardu faces challenges such as limited infras...  \n",
            "3  The distance from Islamabad to Skardu is appro...  \n",
            "4  The temperature in Skardu ranges from extreme ...  \n",
            "<class 'pandas.core.frame.DataFrame'>\n",
            "RangeIndex: 487 entries, 0 to 486\n",
            "Data columns (total 2 columns):\n",
            " #   Column    Non-Null Count  Dtype \n",
            "---  ------    --------------  ----- \n",
            " 0   Question  487 non-null    object\n",
            " 1   Answer    487 non-null    object\n",
            "dtypes: object(2)\n",
            "memory usage: 7.7+ KB\n",
            "None\n"
          ]
        }
      ],
      "source": [
        "import pandas as pd\n",
        "\n",
        "# Load the dataset\n",
        "file_path = '/content/Gilgit_Baltistan_FAQs_Expanded.csv'\n",
        "data = pd.read_csv(file_path)\n",
        "\n",
        "\n",
        "print(data.head())\n",
        "\n",
        "print(data.info())\n"
      ]
    },
    {
      "cell_type": "code",
      "source": [
        "import nltk\n",
        "from nltk.corpus import stopwords\n",
        "from nltk.tokenize import word_tokenize\n",
        "import string\n",
        "import pandas as pd\n",
        "\n",
        "# Download required NLTK data\n",
        "nltk.download('punkt')\n",
        "nltk.download('stopwords')\n",
        "\n",
        "# Define preprocessing function for input text\n",
        "def preprocess_text_input(text):\n",
        "\n",
        "    text = text.lower().strip()\n",
        "\n",
        "\n",
        "    tokens = word_tokenize(text)\n",
        "\n",
        "\n",
        "    stop_words = set(stopwords.words('english'))\n",
        "    tokens = [word for word in tokens if word not in stop_words and word not in string.punctuation]\n",
        "\n",
        "    return \" \".join(tokens)\n",
        "\n",
        "\n",
        "\n",
        "data['Question'] = data['Question'].apply(preprocess_text_input)\n",
        "\n",
        "data = data.drop_duplicates()\n",
        "\n",
        "# Save the cleaned data\n",
        "data.to_csv('cleaned_FAQs.csv', index=False)\n",
        "print(\"Text preprocessed, cleaned, and saved!\")\n"
      ],
      "metadata": {
        "colab": {
          "base_uri": "https://localhost:8080/"
        },
        "id": "Iw5QTLHAAQZR",
        "outputId": "3053e27b-9cc9-46e6-e51d-5395061a3f64"
      },
      "execution_count": 42,
      "outputs": [
        {
          "output_type": "stream",
          "name": "stdout",
          "text": [
            "Text preprocessed, cleaned, and saved!\n"
          ]
        },
        {
          "output_type": "stream",
          "name": "stderr",
          "text": [
            "[nltk_data] Downloading package punkt to /root/nltk_data...\n",
            "[nltk_data]   Package punkt is already up-to-date!\n",
            "[nltk_data] Downloading package stopwords to /root/nltk_data...\n",
            "[nltk_data]   Package stopwords is already up-to-date!\n"
          ]
        }
      ]
    },
    {
      "cell_type": "code",
      "source": [
        "from sklearn.feature_extraction.text import TfidfVectorizer\n",
        "from sklearn.metrics.pairwise import cosine_similarity\n",
        "\n",
        "\n",
        "vectorizer = TfidfVectorizer()\n",
        "X = vectorizer.fit_transform(data['Question'])\n",
        "\n",
        "def get_response(user_query):\n",
        "\n",
        "    user_query = preprocess_text(user_query)\n",
        "\n",
        "\n",
        "    user_vec = vectorizer.transform([user_query])\n",
        "\n",
        "    # Calculate similarity\n",
        "    similarities = cosine_similarity(user_vec, X)\n",
        "    idx = similarities.argmax()\n",
        "\n",
        "    # Return the corresponding answer\n",
        "    return data.iloc[idx]['Answer']"
      ],
      "metadata": {
        "id": "oMzZcZmEBvl8"
      },
      "execution_count": 43,
      "outputs": []
    },
    {
      "cell_type": "code",
      "source": [
        "# Test the chatbot\n",
        "user_input = \"What you know about chaqchan msoque?\"\n",
        "response = get_response(user_input)\n",
        "print(f\"Chatbot: {response}\")"
      ],
      "metadata": {
        "colab": {
          "base_uri": "https://localhost:8080/"
        },
        "id": "PMZ5L2eBOgub",
        "outputId": "5b9ac79c-1c43-4ded-e51a-17f1195f2eb5"
      },
      "execution_count": 44,
      "outputs": [
        {
          "output_type": "stream",
          "name": "stdout",
          "text": [
            "Chatbot: The Chaqchan Mosque, located in Khaplu, is over 700 years old and is one of the oldest mosques in the region, showcasing Tibetan and Islamic architecture.\n"
          ]
        }
      ]
    },
    {
      "cell_type": "code",
      "source": [
        "import gradio as gr\n",
        "\n",
        "# Define your chatbot response function\n",
        "def chatbot_response(user_input):\n",
        "    response = get_response(user_input)\n",
        "    return response\n",
        "\n",
        "# Create the Gradio interface\n",
        "interface = gr.Interface(\n",
        "    fn=chatbot_response,\n",
        "    inputs=gr.Textbox(label=\"Your Question\"),\n",
        "    outputs=gr.Textbox(label=\"Chatbot Response\"),\n",
        "    title=\"Gilgit-Baltistan FAQ Chatbot\",\n",
        "    description=\"Ask me anything about Gilgit-Baltistan! This chatbot provides information about tourism, culture, and challenges in the region.\"\n",
        ")\n",
        "\n",
        "# Launch the Gradio app\n",
        "interface.launch()\n"
      ],
      "metadata": {
        "colab": {
          "base_uri": "https://localhost:8080/",
          "height": 626
        },
        "id": "cILMLy2pB5T0",
        "outputId": "7f262d9b-2cff-4c35-ba0d-9e95f95f90c0"
      },
      "execution_count": 46,
      "outputs": [
        {
          "output_type": "stream",
          "name": "stdout",
          "text": [
            "Running Gradio in a Colab notebook requires sharing enabled. Automatically setting `share=True` (you can turn this off by setting `share=False` in `launch()` explicitly).\n",
            "\n",
            "Colab notebook detected. To show errors in colab notebook, set debug=True in launch()\n",
            "* Running on public URL: https://752e0d96ebb32c7e06.gradio.live\n",
            "\n",
            "This share link expires in 72 hours. For free permanent hosting and GPU upgrades, run `gradio deploy` from the terminal in the working directory to deploy to Hugging Face Spaces (https://huggingface.co/spaces)\n"
          ]
        },
        {
          "output_type": "display_data",
          "data": {
            "text/plain": [
              "<IPython.core.display.HTML object>"
            ],
            "text/html": [
              "<div><iframe src=\"https://752e0d96ebb32c7e06.gradio.live\" width=\"100%\" height=\"500\" allow=\"autoplay; camera; microphone; clipboard-read; clipboard-write;\" frameborder=\"0\" allowfullscreen></iframe></div>"
            ]
          },
          "metadata": {}
        },
        {
          "output_type": "execute_result",
          "data": {
            "text/plain": []
          },
          "metadata": {},
          "execution_count": 46
        }
      ]
    },
    {
      "cell_type": "code",
      "source": [],
      "metadata": {
        "id": "WRGVAnUCMw3L"
      },
      "execution_count": null,
      "outputs": []
    }
  ]
}